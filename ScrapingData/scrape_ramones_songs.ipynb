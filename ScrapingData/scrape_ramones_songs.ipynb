{
 "cells": [
  {
   "cell_type": "code",
   "execution_count": 494,
   "metadata": {},
   "outputs": [
    {
     "name": "stdout",
     "output_type": "stream",
     "text": [
      "202\n",
      "['/lyrics/ramones/idontwanttogrowup.html', '/lyrics/ramones/makinmonstersformyfriends.html', '/lyrics/ramones/itsnotformetoknow.html', '/lyrics/ramones/thecrusher.html', '/lyrics/ramones/lifesagas.html', '/lyrics/ramones/takethepainaway.html', '/lyrics/ramones/iloveyou.html', '/lyrics/ramones/cretinfamily.html', '/lyrics/ramones/haveaniceday.html', '/lyrics/ramones/scattergun.html', '/lyrics/ramones/gotalottosay.html', '/lyrics/ramones/shetalkstorainbows.html', '/lyrics/ramones/borntodieinberlin.html', '/lyrics/ramones/spiderman.html', '/lyrics/ramones/journeytothecenterofthemindamboydukes.html', '/lyrics/ramones/substitute.html', '/lyrics/ramones/outoftime.html', '/lyrics/ramones/theshapeofthingstocome.html', '/lyrics/ramones/somebodytolove.html', '/lyrics/ramones/wheniwasyoung.html', '/lyrics/ramones/7and7is.html', '/lyrics/ramones/mybackpages.html', '/lyrics/ramones/cantseemtomakeyoumine.html', '/lyrics/ramones/haveyoueverseentherain.html', '/lyrics/ramones/cantcontrolmyself.html', '/lyrics/ramones/surfcity.html', '/lyrics/ramones/surfinsafari.html', '/lyrics/ramones/censorshit.html', '/lyrics/ramones/thejobthatatemybrain.html', '/lyrics/ramones/poisonheart.html', '/lyrics/ramones/anxiety.html', '/lyrics/ramones/strengthtoendure.html', '/lyrics/ramones/itsgonnabealright.html', '/lyrics/ramones/takeitasitcomes.html', '/lyrics/ramones/mainman.html', '/lyrics/ramones/tomorrowshegoesaway.html', '/lyrics/ramones/iwontletithappen.html', '/lyrics/ramones/cabbiesoncrack.html', '/lyrics/ramones/heidiisaheadcase.html', '/lyrics/ramones/touring.html', '/lyrics/ramones/believeinmiracles.html', '/lyrics/ramones/zerozeroufo.html', '/lyrics/ramones/dontbustmychops.html', '/lyrics/ramones/punishmentfitsthecrime.html', '/lyrics/ramones/allscrewedup.html', '/lyrics/ramones/palisadespark.html', '/lyrics/ramones/petsematary.html', '/lyrics/ramones/learntolisten.html', '/lyrics/ramones/cantgetyououttamymind.html', '/lyrics/ramones/ignoranceisbliss.html', '/lyrics/ramones/comebackbaby.html', '/lyrics/ramones/merrychristmasidontwanttofighttonight.html', '/lyrics/ramones/iwannalive.html', '/lyrics/ramones/boptilyoudrop.html', '/lyrics/ramones/gardenofserenity.html', '/lyrics/ramones/weaselface.html', '/lyrics/ramones/golilcamaro.html', '/lyrics/ramones/knowbetternow.html', '/lyrics/ramones/deathofme.html', '/lyrics/ramones/ilostmymind.html', '/lyrics/ramones/arealcooltime.html', '/lyrics/ramones/imnotjesus.html', '/lyrics/ramones/byebyebaby.html', '/lyrics/ramones/wormman.html', '/lyrics/ramones/somebodyputsomethinginmydrink.html', '/lyrics/ramones/animalboy.html', '/lyrics/ramones/lovekills.html', '/lyrics/ramones/apemanhop.html', '/lyrics/ramones/shebelongstome.html', '/lyrics/ramones/crummystuff.html', '/lyrics/ramones/mybrainishangingupsidedownbonzogoestobitburg.html', '/lyrics/ramones/mentalhell.html', '/lyrics/ramones/eatthatrat.html', '/lyrics/ramones/freakofnature.html', '/lyrics/ramones/hairofthedog.html', '/lyrics/ramones/somethingtobelievein.html', '/lyrics/ramones/mamasboy.html', '/lyrics/ramones/imnotafraidoflife.html', '/lyrics/ramones/tootoughtodie.html', '/lyrics/ramones/warthog.html', '/lyrics/ramones/dangerzone.html', '/lyrics/ramones/chasingthenight.html', '/lyrics/ramones/howlingatthemoonshalala.html', '/lyrics/ramones/daytimedilemmadangersoflove.html', '/lyrics/ramones/planetearth1988.html', '/lyrics/ramones/humankind.html', '/lyrics/ramones/endlessvacation.html', '/lyrics/ramones/nogo.html', '/lyrics/ramones/littlebitosoul.html', '/lyrics/ramones/ineedyourlove.html', '/lyrics/ramones/outsider.html', '/lyrics/ramones/whatdyado.html', '/lyrics/ramones/highesttrailsabove.html', '/lyrics/ramones/somebodylikeme.html', '/lyrics/ramones/psychotherapy.html', '/lyrics/ramones/timehascometoday.html', '/lyrics/ramones/mymykindofagirl.html', '/lyrics/ramones/inthepark.html', '/lyrics/ramones/timebomb.html', '/lyrics/ramones/everytimeieatvegatablesitmakesmethinkofyou.html', '/lyrics/ramones/wewanttheairwaves.html', '/lyrics/ramones/allsquietontheeasternfront.html', '/lyrics/ramones/thekkktookmybabyaway.html', '/lyrics/ramones/dontgo.html', '/lyrics/ramones/yousoundlikeyouresick.html', '/lyrics/ramones/itsnotmyplace.html', '/lyrics/ramones/shesasensation.html', '/lyrics/ramones/711.html', '/lyrics/ramones/youdidntmeananythingtome.html', '/lyrics/ramones/comeonnow.html', '/lyrics/ramones/thisbusinessiskillingme.html', '/lyrics/ramones/sittinginmyroom.html', '/lyrics/ramones/doyourememberrocknrollradio.html', '/lyrics/ramones/imaffected.html', '/lyrics/ramones/dannysays.html', '/lyrics/ramones/chineserock.html', '/lyrics/ramones/thereturnofjackieandjudy.html', '/lyrics/ramones/letsgo.html', '/lyrics/ramones/babyiloveyou.html', '/lyrics/ramones/icantmakeitontime.html', '/lyrics/ramones/thisainthavana.html', '/lyrics/ramones/rocknrollhighschool.html', '/lyrics/ramones/alltheway.html', '/lyrics/ramones/highriskinsurance.html', '/lyrics/ramones/ijustwanttohavesomethingtodo.html', '/lyrics/ramones/iwantedeverything.html', '/lyrics/ramones/dontcomeclose.html', '/lyrics/ramones/idontwantyou.html', '/lyrics/ramones/needlesandpins.html', '/lyrics/ramones/imagainstit.html', '/lyrics/ramones/iwannabesedated.html', '/lyrics/ramones/gomental.html', '/lyrics/ramones/questioningly.html', '/lyrics/ramones/shestheone.html', '/lyrics/ramones/badbrain.html', '/lyrics/ramones/itsalongwayback.html', '/lyrics/ramones/cretinhop.html', '/lyrics/ramones/rockawaybeach.html', '/lyrics/ramones/heretodaygonetomorrow.html', '/lyrics/ramones/locketlove.html', '/lyrics/ramones/idontcare.html', '/lyrics/ramones/sheenaisapunkrocker.html', '/lyrics/ramones/wereahappyfamily.html', '/lyrics/ramones/teenagelobotomy.html', '/lyrics/ramones/doyouwannadance.html', '/lyrics/ramones/iwannabewell.html', '/lyrics/ramones/icantgiveyouanything.html', '/lyrics/ramones/ramona.html', '/lyrics/ramones/surfinbird.html', '/lyrics/ramones/whyisitalwaysthisway.html', '/lyrics/ramones/gladtoseeyougo.html', '/lyrics/ramones/gimmegimmeshocktreatment.html', '/lyrics/ramones/irememberyou.html', '/lyrics/ramones/ohohiloveherso.html', '/lyrics/ramones/sheenaisapunkrocker.html', '/lyrics/ramones/carbonanotglue.html', '/lyrics/ramones/babysitter.html', '/lyrics/ramones/suzyisaheadbanger.html', '/lyrics/ramones/pinhead.html', '/lyrics/ramones/nowiwannabeagoodboy.html', '/lyrics/ramones/swallowmypride.html', '/lyrics/ramones/whatsyourgame.html', '/lyrics/ramones/californiasun.html', '/lyrics/ramones/commando.html', '/lyrics/ramones/youregonnakillthatgirl.html', '/lyrics/ramones/youshouldhaveneveropenedthatdoor.html', '/lyrics/ramones/blitzkriegbop.html', '/lyrics/ramones/beatonthebrat.html', '/lyrics/ramones/judyisapunk.html', '/lyrics/ramones/iwannabeyourboyfriend.html', '/lyrics/ramones/chainsaw.html', '/lyrics/ramones/nowiwannasniffsomeglue.html', '/lyrics/ramones/idontwannagodowntothebasement.html', '/lyrics/ramones/loudmouth.html', '/lyrics/ramones/havanaaffair.html', '/lyrics/ramones/listentomyheart.html', '/lyrics/ramones/53rd3rd.html', '/lyrics/ramones/letsdance.html', '/lyrics/ramones/idontwannawalkaroundwithyou.html', '/lyrics/ramones/todayyourlovetomorrowtheworld.html', '/lyrics/ramones/andidontwannalivethislife.html', '/lyrics/ramones/youcantsayanythingnice.html', '/lyrics/ramones/anywayyouwantit.html', '/lyrics/ramones/chopsuey.html', '/lyrics/ramones/comebackshecried.html', '/lyrics/ramones/gohomeann.html', '/lyrics/ramones/happybirthdaymrburns.html', '/lyrics/ramones/icantbe.html', '/lyrics/ramones/idontwannabelearnedidontwannabetamed.html', '/lyrics/ramones/iwantyouaround.html', '/lyrics/ramones/indiangiver.html', '/lyrics/ramones/mysharona.html', '/lyrics/ramones/newgirlintown.html', '/lyrics/ramones/noonetoblame.html', '/lyrics/ramones/pleasedontleave.html', '/lyrics/ramones/ramones.html', '/lyrics/ramones/rootsofhatred.html', '/lyrics/ramones/slug.html', '/lyrics/ramones/smashyou.html', '/lyrics/ramones/streetfightingman.html', '/lyrics/ramones/unhappygirl.html', '/lyrics/ramones/yeahyeah.html']\n"
     ]
    }
   ],
   "source": [
    "import requests\n",
    "import re\n",
    "from bs4 import BeautifulSoup\n",
    "import io\n",
    "\n",
    "#base_url = 'http://www.azlyrics.com/r/'\n",
    "base_url = 'http://www.plyrics.com/'\n",
    "page_html = '/r/ramones.html'\n",
    "#headers = { 'User-Agent': 'Mozilla/5.0 (Windows NT 6.0; WOW64; rv:24.0) Gecko/20100101 Firefox/24.0' }\n",
    "headers = { 'User-Agent': 'Google Bot: Googlebot/2.1' }\n",
    "\n",
    "base_dir = '/Users/mfrey/RamonesLyrics/'\n",
    "\n",
    "#Mozilla/5.0 (X11; Linux x86_64)\n",
    "#Google Bot: Googlebot/2.1\n",
    "def get_parsed_page(url):\n",
    "    \"\"\"Return the content of the website on the given url in a parsed lxml format that is easy to query.\"\"\"\n",
    "    response = requests.get(url, headers=headers)\n",
    "    parsed_page = BeautifulSoup(response.content, 'html.parser')\n",
    "    return parsed_page\n",
    "\n",
    "parsed_page = get_parsed_page(base_url+page_html)\n",
    "\n",
    "#html = list(parsed_page.children)[2]\n",
    "#body = list(html.children)[3]\n",
    "#content = list(body.children)[13]\n",
    "\n",
    "#song_albums = parsed_page.find(id=\"listAlbum\")\n",
    "#song_album2 = song_albums.find_all(class_=\"album\")\n",
    "#song_href = song_albums.find_all('href')\n",
    "\n",
    "#song_album2.find_all(class_=\"album\")\n",
    "\n",
    "url_list_raw = list(parsed_page.find_all(href=re.compile(\"lyrics/ramones\")))\n",
    "url_list = []\n",
    "\n",
    "for link in url_list_raw: \n",
    "    url_list.append( link.get('href'))\n",
    "\n",
    "albums = list(parsed_page.find_all('div', class_='album_header'))\n",
    "#print(parsed_page.find_all('div', style='text-align: left'))\n",
    "album_list = []\n",
    "for link in albums: \n",
    "    album_list.append( link.text.strip().replace(\"album: \",'').replace('\"','').replace(' ','_').replace(':','()'))\n",
    "\n",
    "\n",
    "    \n",
    "print(len(url_list))\n",
    "#print(album_list)\n",
    "print(url_list)\n",
    "\n"
   ]
  },
  {
   "cell_type": "code",
   "execution_count": 498,
   "metadata": {},
   "outputs": [
    {
     "name": "stdout",
     "output_type": "stream",
     "text": [
      "Everybody said so man you could see it on T.V.\r\n",
      "They stood there ashamed with nowhere to go\r\n",
      "Nobody wants them now the kids are alright\r\n",
      "Every day is a holiday and pushin' people around\n",
      "\r\n",
      "I'm making monsters for my friends\r\n",
      "I'm making monsters for my friends\n",
      "\r\n",
      "Someone caught one I could see so myself\r\n",
      "I had to call 254 so they wouldn't blame me\r\n",
      "We wanted to know how much trouble there was\r\n",
      "When we asked our daddy he said it's just because\n",
      "\r\n",
      "I'm making monsters for my friends\r\n",
      "I'm making monsters for my friends\n",
      "\r\n",
      "I don't wanna open a can of worms and\r\n",
      "I don't want any Spagetti-Os\r\n",
      "And I could always tell when\r\n",
      "someone is holding a grudge\n",
      "\r\n",
      "I'm making monsters for my friends\r\n",
      "I'm making monsters for my friends\r\n",
      "I'm making monsters for my friends\r\n",
      "I'm making monsters for my friends\n"
     ]
    }
   ],
   "source": [
    "import io\n",
    "\n",
    "lyric_url = url_list[1]\n",
    "\n",
    "    \n",
    "def get_lyrics(lyric_url):\n",
    "    title = parsed_lyric_page('h3')[0].text\n",
    "    #print(title)\n",
    "    test = list(parsed_lyric_page.contents)[2]\n",
    "    test2 = test.contents[3]#.contents[1].contents[3].contents[9]\n",
    "\n",
    "    m = re.findall(\"<!-- start of lyrics -->.*?<!-- end of lyrics -->\", str(test2), re.DOTALL)\n",
    "    lyrics = m[0].replace('<!-- start of lyrics -->\\r\\n', '').replace('\\n<!-- end of lyrics -->','').replace('<br/>','')\n",
    "    return title, lyrics\n",
    "\n",
    "\n",
    "\n",
    "filename_raw = lyric_url\n",
    "filename = filename_raw.replace('/lyrics/ramones/','').replace('.html','.txt')\n",
    "\n",
    "parsed_lyric_page = get_parsed_page(base_url+lyric_url)\n",
    "\n",
    "title, lyrics = get_lyrics(parsed_lyric_page)\n",
    "\n",
    "file_all = open(base_dir+'all_lyrics.txt','w')\n",
    "file = open(base_dir+filename,'w')\n",
    "file.write(title+'\\n\\n')\n",
    "file.write(lyrics) \n",
    "file_all.write(title+'\\n\\n')\n",
    "file_all.write(lyrics)\n",
    "\n",
    "file.close()\n",
    "file_all.close()\n",
    "\n",
    "print((lyrics))\n",
    "\n"
   ]
  },
  {
   "cell_type": "code",
   "execution_count": 499,
   "metadata": {},
   "outputs": [
    {
     "name": "stdout",
     "output_type": "stream",
     "text": [
      "done!\n"
     ]
    }
   ],
   "source": [
    "import time\n",
    "\n",
    "file_all = open(base_dir+'all_lyrics.txt','w')\n",
    "\n",
    "for lyric_url in url_list:\n",
    "    parsed_lyric_page = get_parsed_page(base_url+lyric_url)\n",
    "    time.sleep(10) ## be kind with the websites... don't overload them and get blocked\n",
    "    \n",
    "    parsed_lyric_page = get_parsed_page(base_url+lyric_url)\n",
    "    title, lyrics = get_lyrics(parsed_lyric_page)\n",
    "\n",
    "    filename = lyric_url.replace('/lyrics/ramones/','').replace('.html','.txt')\n",
    "    \n",
    "    file = open(base_dir+filename,'w')    \n",
    "    file.write(title+'\\n\\n')\n",
    "    file.write(lyrics) \n",
    "    file_all.write(title+'\\n\\n')\n",
    "    file_all.write(lyrics+'\\n\\n')\n",
    "    file.close()\n",
    "\n",
    "    \n",
    "file_all.close()\n",
    "\n",
    "print(\"done!\")\n",
    "\n",
    "\n",
    "    \n",
    "    \n",
    "    "
   ]
  },
  {
   "cell_type": "code",
   "execution_count": null,
   "metadata": {
    "collapsed": true
   },
   "outputs": [],
   "source": []
  }
 ],
 "metadata": {
  "kernelspec": {
   "display_name": "Python 2",
   "language": "python",
   "name": "python2"
  },
  "language_info": {
   "codemirror_mode": {
    "name": "ipython",
    "version": 2
   },
   "file_extension": ".py",
   "mimetype": "text/x-python",
   "name": "python",
   "nbconvert_exporter": "python",
   "pygments_lexer": "ipython2",
   "version": "2.7.13"
  }
 },
 "nbformat": 4,
 "nbformat_minor": 2
}
